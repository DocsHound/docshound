{
 "cells": [
  {
   "cell_type": "code",
   "execution_count": 1,
   "metadata": {},
   "outputs": [],
   "source": [
    "const { Client } = require('@notionhq/client');"
   ]
  },
  {
   "cell_type": "code",
   "execution_count": 3,
   "metadata": {},
   "outputs": [
    {
     "data": {
      "text/plain": [
       "'secret_CR4Qv3h0bXZaWw144NPoo9jGSoHRV57GZ8Uup1QmQtB'"
      ]
     },
     "execution_count": 3,
     "metadata": {},
     "output_type": "execute_result"
    }
   ],
   "source": [
    "NOTION_API_KEY = 'secret_CR4Qv3h0bXZaWw144NPoo9jGSoHRV57GZ8Uup1QmQtB'"
   ]
  },
  {
   "cell_type": "code",
   "execution_count": null,
   "metadata": {},
   "outputs": [],
   "source": [
    "const notion = new Client({ auth: NOTION_API_KEY });"
   ]
  },
  {
   "cell_type": "code",
   "execution_count": 14,
   "metadata": {},
   "outputs": [],
   "source": [
    "let pageid = '2bcd2f33-39b1-48f0-b74e-64636c38c686';"
   ]
  },
  {
   "cell_type": "code",
   "execution_count": null,
   "metadata": {},
   "outputs": [],
   "source": [
    "let latest;"
   ]
  },
  {
   "cell_type": "code",
   "execution_count": 69,
   "metadata": {},
   "outputs": [
    {
     "name": "stdout",
     "output_type": "stream",
     "text": [
      "{\n",
      "  object: 'list',\n",
      "  results: [\n",
      "    {\n",
      "      object: 'page',\n",
      "      id: '2bcd2f33-39b1-48f0-b74e-64636c38c686',\n",
      "      created_time: '2021-12-16T22:45:00.000Z',\n",
      "      last_edited_time: '2022-01-16T23:09:00.000Z',\n",
      "      cover: null,\n",
      "      icon: null,\n",
      "      parent: [Object],\n",
      "      archived: false,\n",
      "      properties: [Object],\n",
      "      url: 'https://www.notion.so/Job-Applications-2bcd2f3339b148f0b74e64636c38c686'\n",
      "    }\n",
      "  ],\n",
      "  next_cursor: null,\n",
      "  has_more: false\n",
      "}\n"
     ]
    }
   ],
   "source": [
    "(async () => {\n",
    "  const response = await notion.search({\n",
    "    query: 'Job',\n",
    "//     sort: {\n",
    "//        direction: 'ascending',\n",
    "//        timestamp: 'last_edited_time',\n",
    "//     },\n",
    "  });\n",
    "  latest = response;\n",
    "  console.log(response);\n",
    "})();"
   ]
  },
  {
   "cell_type": "code",
   "execution_count": 31,
   "metadata": {},
   "outputs": [
    {
     "data": {
      "text/plain": [
       "{\n",
       "  object: 'page',\n",
       "  id: '2bcd2f33-39b1-48f0-b74e-64636c38c686',\n",
       "  created_time: '2021-12-16T22:45:00.000Z',\n",
       "  last_edited_time: '2022-01-16T23:02:00.000Z',\n",
       "  cover: null,\n",
       "  icon: null,\n",
       "  parent: { type: 'page_id', page_id: '410d9549-7ddd-4bc2-a1a0-1ac6912e981b' },\n",
       "  archived: false,\n",
       "  properties: { title: { id: 'title', type: 'title', title: [Array] } },\n",
       "  url: 'https://www.notion.so/Job-Applications-2bcd2f3339b148f0b74e64636c38c686'\n",
       "}"
      ]
     },
     "execution_count": 31,
     "metadata": {},
     "output_type": "execute_result"
    }
   ],
   "source": [
    "latest.results[0]"
   ]
  },
  {
   "cell_type": "code",
   "execution_count": 32,
   "metadata": {},
   "outputs": [
    {
     "name": "stdout",
     "output_type": "stream",
     "text": [
      "{\n",
      "  object: 'page',\n",
      "  id: '2bcd2f33-39b1-48f0-b74e-64636c38c686',\n",
      "  created_time: '2021-12-16T22:45:00.000Z',\n",
      "  last_edited_time: '2022-01-16T23:02:00.000Z',\n",
      "  cover: null,\n",
      "  icon: null,\n",
      "  parent: { type: 'page_id', page_id: '410d9549-7ddd-4bc2-a1a0-1ac6912e981b' },\n",
      "  archived: false,\n",
      "  properties: { title: { id: 'title', type: 'title', title: [Array] } },\n",
      "  url: 'https://www.notion.so/Job-Applications-2bcd2f3339b148f0b74e64636c38c686'\n",
      "}\n"
     ]
    }
   ],
   "source": [
    "let latest_p;\n",
    "\n",
    "(async () => {\n",
    "  const pageId = latest.results[0].id;\n",
    "  const response = await notion.pages.retrieve({ page_id: pageId });\n",
    "    latest_p = response;\n",
    "  console.log(response);\n",
    "})();"
   ]
  },
  {
   "cell_type": "code",
   "execution_count": 50,
   "metadata": {
    "collapsed": true
   },
   "outputs": [
    {
     "ename": "ReferenceError",
     "evalue": "let is not defined",
     "output_type": "error",
     "traceback": [
      "evalmachine.<anonymous>:1",
      "let",
      "^",
      "",
      "ReferenceError: let is not defined",
      "    at evalmachine.<anonymous>:1:1",
      "    at Script.runInThisContext (node:vm:129:12)",
      "    at Object.runInThisContext (node:vm:305:38)",
      "    at run ([eval]:1054:15)",
      "    at onRunRequest ([eval]:888:18)",
      "    at onMessage ([eval]:848:13)",
      "    at process.emit (node:events:390:28)",
      "    at emit (node:internal/child_process:917:12)",
      "    at processTicksAndRejections (node:internal/process/task_queues:84:21)"
     ]
    }
   ],
   "source": [
    "let latest_b;"
   ]
  },
  {
   "cell_type": "code",
   "execution_count": 63,
   "metadata": {},
   "outputs": [
    {
     "name": "stdout",
     "output_type": "stream",
     "text": [
      "{\n",
      "  object: 'list',\n",
      "  results: [\n",
      "    {\n",
      "      object: 'block',\n",
      "      id: '607c2000-ce91-4087-81a4-cc8df0d9ab35',\n",
      "      created_time: '2021-12-16T22:45:00.000Z',\n",
      "      last_edited_time: '2021-12-16T22:45:00.000Z',\n",
      "      has_children: true,\n",
      "      archived: false,\n",
      "      type: 'child_page',\n",
      "      child_page: [Object]\n",
      "    },\n",
      "    {\n",
      "      object: 'block',\n",
      "      id: '091a2758-bd87-491c-bba9-18925c07f8e2',\n",
      "      created_time: '2021-12-16T22:45:00.000Z',\n",
      "      last_edited_time: '2022-01-16T23:07:00.000Z',\n",
      "      has_children: false,\n",
      "      archived: false,\n",
      "      type: 'paragraph',\n",
      "      paragraph: [Object]\n",
      "    },\n",
      "    {\n",
      "      object: 'block',\n",
      "      id: '755e7d63-4722-405f-84f8-ad31cfcfa348',\n",
      "      created_time: '2022-01-16T23:02:00.000Z',\n",
      "      last_edited_time: '2022-01-16T23:09:00.000Z',\n",
      "      has_children: false,\n",
      "      archived: false,\n",
      "      type: 'paragraph',\n",
      "      paragraph: [Object]\n",
      "    }\n",
      "  ],\n",
      "  next_cursor: null,\n",
      "  has_more: false\n",
      "}\n"
     ]
    }
   ],
   "source": [
    " (async () => {\n",
    "  const blockId = latest.results[0].id;\n",
    "  const response = await notion.blocks.children.list({\n",
    "    block_id: blockId,\n",
    "    page_size: 50,\n",
    "  });\n",
    "  latest_b = response;\n",
    "  console.log(response);\n",
    "})();"
   ]
  },
  {
   "cell_type": "code",
   "execution_count": 65,
   "metadata": {},
   "outputs": [
    {
     "data": {
      "text/plain": [
       "{\n",
       "  type: 'mention',\n",
       "  mention: {\n",
       "    type: 'user',\n",
       "    user: {\n",
       "      object: 'user',\n",
       "      id: '3509a772-552d-4355-8dca-9aff922c88b9',\n",
       "      name: 'Richard Wu',\n",
       "      avatar_url: 'https://lh3.googleusercontent.com/a-/AOh14GjdCFVsGcjHmUIAbOJtejzzU63GlfQDdNK0FcjHDj0=s100',\n",
       "      type: 'person',\n",
       "      person: [Object]\n",
       "    }\n",
       "  },\n",
       "  annotations: {\n",
       "    bold: false,\n",
       "    italic: false,\n",
       "    strikethrough: false,\n",
       "    underline: false,\n",
       "    code: false,\n",
       "    color: 'default'\n",
       "  },\n",
       "  plain_text: '@Richard Wu',\n",
       "  href: null\n",
       "}"
      ]
     },
     "execution_count": 65,
     "metadata": {},
     "output_type": "execute_result"
    }
   ],
   "source": [
    "latest_b.results[2].paragraph.text[1]"
   ]
  }
 ],
 "metadata": {
  "kernelspec": {
   "display_name": "JavaScript (Node.js)",
   "language": "javascript",
   "name": "javascript"
  },
  "language_info": {
   "file_extension": ".js",
   "mimetype": "application/javascript",
   "name": "javascript",
   "version": "16.13.0"
  }
 },
 "nbformat": 4,
 "nbformat_minor": 4
}
